{
 "cells": [
  {
   "cell_type": "code",
   "execution_count": null,
   "metadata": {},
   "outputs": [],
   "source": [
    "import pandas as pd\n",
    "import numpy as np\n",
    "import mediapipe as mp\n",
    "import cv2\n",
    "import csv\n",
    "from sklearn.model_selection import train_test_split\n",
    "from sklearn.ensemble import RandomForestClassifier,GradientBoostingClassifier\n",
    "from sklearn.linear_model import LogisticRegression,RidgeClassifier\n"
   ]
  },
  {
   "cell_type": "code",
   "execution_count": null,
   "metadata": {},
   "outputs": [],
   "source": [
    "mp_holistic=mp.solutions.holistic\n",
    "mp_drawing=mp.solutions.drawing_utils"
   ]
  },
  {
   "cell_type": "code",
   "execution_count": null,
   "metadata": {},
   "outputs": [],
   "source": [
    "def make_detection(image,model):\n",
    "    image=cv2.cvtColor(image,cv2.COLOR_BGR2RGB)\n",
    "    image.flags.writeable=False\n",
    "    results=model.process(image)\n",
    "    image.flags.writeable=True\n",
    "    image=cv2.cvtColor(image,cv2.COLOR_RGB2BGR)\n",
    "    return image,results"
   ]
  },
  {
   "cell_type": "code",
   "execution_count": null,
   "metadata": {},
   "outputs": [],
   "source": [
    "def draw_landmarks(image,results):\n",
    "    mp_drawing.draw_landmarks(image,results.face_landmarks,mp_holistic.FACEMESH_TESSELATION,\n",
    "                              mp_drawing.DrawingSpec(color=(0,255,0),thickness=2,circle_radius=1),\n",
    "                              mp_drawing.DrawingSpec(color=(0,230,0),thickness=2,circle_radius=1)\n",
    "                              )\n",
    "   "
   ]
  },
  {
   "attachments": {},
   "cell_type": "markdown",
   "metadata": {},
   "source": [
    "Make Face Detection"
   ]
  },
  {
   "cell_type": "code",
   "execution_count": null,
   "metadata": {},
   "outputs": [],
   "source": [
    "#check if face is detcting using mediapipe\n",
    "cap=cv2.VideoCapture(0)\n",
    "with mp_holistic.Holistic(min_detection_confidence=0.4,min_tracking_confidence=0.4) as holistic:\n",
    "    while cap.isOpened():\n",
    "        ret,frame=cap.read()\n",
    "        image,results=make_detection(frame,holistic)\n",
    "        \n",
    "        draw_landmarks(image,results)\n",
    "        cv2.imshow(\"raw feed\",image)\n",
    "        if cv2.waitKey(10) & 0xFF==ord(\"q\"):\n",
    "            break\n",
    "    cap.release()\n",
    "    cv2.destroyAllWindows()"
   ]
  },
  {
   "cell_type": "code",
   "execution_count": null,
   "metadata": {},
   "outputs": [],
   "source": [
    "#get the total no of coordintes in face\n",
    "num_coords=len(results.face_landmarks.landmark)\n",
    "num_coords"
   ]
  },
  {
   "cell_type": "code",
   "execution_count": null,
   "metadata": {},
   "outputs": [],
   "source": [
    "#get all the headings or feature names for the dataset\n",
    "landmarks=[\"class\"]\n",
    "for val in range(1,num_coords+1):\n",
    "    landmarks+=(\"x{}\".format(val),\"y{}\".format(val),\"z{}\".format(val))\n"
   ]
  },
  {
   "cell_type": "code",
   "execution_count": null,
   "metadata": {},
   "outputs": [],
   "source": [
    "#add the feature  names to the csv file \n",
    "with open(\"coords_emotion.csv\",mode=\"w\",newline=\"\") as f:\n",
    "    csv_writer=csv.writer(f,delimiter=\",\",quotechar='\"',quoting=csv.QUOTE_MINIMAL)\n",
    "    csv_writer.writerow(landmarks)"
   ]
  },
  {
   "cell_type": "code",
   "execution_count": null,
   "metadata": {},
   "outputs": [],
   "source": [
    "#set the class name\n",
    "#To add new class to the csv file change class_name value and collect the data for the class\n",
    "class_name=\"Neutral\""
   ]
  },
  {
   "attachments": {},
   "cell_type": "markdown",
   "metadata": {},
   "source": [
    "Collecting data in real time and adding it to the csv file row by row"
   ]
  },
  {
   "cell_type": "code",
   "execution_count": null,
   "metadata": {},
   "outputs": [],
   "source": [
    "cap=cv2.VideoCapture(0)\n",
    "with mp_holistic.Holistic(min_detection_confidence=0.4,min_tracking_confidence=0.4) as holistic:\n",
    "    while cap.isOpened():\n",
    "        ret,frame=cap.read()\n",
    "        image,results=make_detection(frame,holistic)\n",
    "        #print(results)\n",
    "        draw_landmarks(image,results)\n",
    "        try:\n",
    "            face=results.face_landmarks.landmark\n",
    "            face_row=list(np.array([[lnd.x,lnd.y,lnd.z] for lnd in face]).flatten())\n",
    "            rows=face_row.copy()\n",
    "            rows.insert(0,class_name)\n",
    "            with open(\"coords_emotion.csv\",mode=\"a\",newline=\"\") as f:\n",
    "                csv_writer=csv.writer(f,delimiter=\",\",quotechar='\"',quoting=csv.QUOTE_MINIMAL)\n",
    "                csv_writer.writerow(rows)\n",
    "        except:\n",
    "            pass\n",
    "        cv2.imshow(\"raw feed\",image)\n",
    "        if cv2.waitKey(10) & 0xFF==ord(\"q\"):\n",
    "            break\n",
    "    cap.release()\n",
    "    cv2.destroyAllWindows()"
   ]
  },
  {
   "cell_type": "code",
   "execution_count": null,
   "metadata": {},
   "outputs": [],
   "source": [
    "#read dataset\n",
    "df=pd.read_csv(\"coords_emotion.csv\")\n",
    "df.tail()"
   ]
  },
  {
   "cell_type": "code",
   "execution_count": null,
   "metadata": {},
   "outputs": [],
   "source": [
    "from sklearn.pipeline import make_pipeline\n",
    "from sklearn.preprocessing import StandardScaler\n",
    "from sklearn.neighbors import KNeighborsClassifier\n",
    "from sklearn.svm import SVC\n",
    "from sklearn.metrics import accuracy_score,confusion_matrix,classification_report"
   ]
  },
  {
   "cell_type": "code",
   "execution_count": null,
   "metadata": {},
   "outputs": [],
   "source": [
    "\n",
    "x=df.drop([\"class\"],axis=\"columns\")"
   ]
  },
  {
   "cell_type": "code",
   "execution_count": null,
   "metadata": {},
   "outputs": [],
   "source": [
    "x"
   ]
  },
  {
   "cell_type": "code",
   "execution_count": null,
   "metadata": {},
   "outputs": [],
   "source": [
    "y=df[\"class\"]"
   ]
  },
  {
   "cell_type": "code",
   "execution_count": null,
   "metadata": {},
   "outputs": [],
   "source": [
    "#split the dataset in to train and test \n",
    "x_train,x_test,y_train,y_test=train_test_split(x.values,y,test_size=0.2,random_state=0)"
   ]
  },
  {
   "cell_type": "code",
   "execution_count": null,
   "metadata": {},
   "outputs": [],
   "source": [
    "#create pipelines\n",
    "pipelines={\n",
    "    \"rf\":make_pipeline(StandardScaler(),RandomForestClassifier()),\n",
    "    \"rc\":make_pipeline(StandardScaler(),RidgeClassifier()),\n",
    "    \"gb\":make_pipeline(StandardScaler(),GradientBoostingClassifier()),\n",
    "    \"lr\":make_pipeline(StandardScaler(),LogisticRegression()),\n",
    "    \"svc\":make_pipeline(StandardScaler(),SVC()),\n",
    "    \"knn\":make_pipeline(StandardScaler(),KNeighborsClassifier())\n",
    "}"
   ]
  },
  {
   "cell_type": "code",
   "execution_count": null,
   "metadata": {},
   "outputs": [],
   "source": [
    "fit_models={}\n",
    "for algo,pipeline in pipelines.items():\n",
    "    model=pipeline.fit(x_train,y_train)\n",
    "    fit_models[algo]=model"
   ]
  },
  {
   "cell_type": "code",
   "execution_count": null,
   "metadata": {},
   "outputs": [],
   "source": [
    "fit_models[\"lr\"].score(x_test,y_test)"
   ]
  },
  {
   "cell_type": "code",
   "execution_count": null,
   "metadata": {},
   "outputs": [],
   "source": [
    "for algo,model in fit_models.items():\n",
    "    yhat=model.predict(x_test)\n",
    "    print(algo,accuracy_score(yhat,y_test))"
   ]
  },
  {
   "cell_type": "code",
   "execution_count": null,
   "metadata": {},
   "outputs": [],
   "source": [
    "model=fit_models[\"rf\"]\n"
   ]
  },
  {
   "cell_type": "code",
   "execution_count": null,
   "metadata": {},
   "outputs": [],
   "source": [
    "yhat=fit_models[\"rf\"].predict(x_test)\n",
    "print(classification_report(yhat,y_test))"
   ]
  },
  {
   "cell_type": "code",
   "execution_count": null,
   "metadata": {},
   "outputs": [],
   "source": [
    "cm=confusion_matrix(yhat,y_test)\n",
    "model.predict(x_test)"
   ]
  },
  {
   "cell_type": "code",
   "execution_count": null,
   "metadata": {},
   "outputs": [],
   "source": [
    "import seaborn as sn\n",
    "sn.heatmap(cm,annot=True,fmt=\"d\")"
   ]
  },
  {
   "attachments": {},
   "cell_type": "markdown",
   "metadata": {},
   "source": [
    "save the model"
   ]
  },
  {
   "cell_type": "code",
   "execution_count": null,
   "metadata": {},
   "outputs": [],
   "source": [
    "import pickle\n",
    "with open(\"face_emotion_model.pkl\",\"wb\") as f:\n",
    "    pickle.dump(fit_models[\"rf\"],f)"
   ]
  },
  {
   "cell_type": "code",
   "execution_count": null,
   "metadata": {},
   "outputs": [],
   "source": [
    "with open(\"face_emotion_model.pkl\",\"rb\") as f:\n",
    "    model=pickle.load(f)"
   ]
  },
  {
   "cell_type": "code",
   "execution_count": null,
   "metadata": {},
   "outputs": [],
   "source": [
    "model.score(x_test,y_test)"
   ]
  },
  {
   "attachments": {},
   "cell_type": "markdown",
   "metadata": {},
   "source": [
    "Make Real time predictions"
   ]
  },
  {
   "cell_type": "code",
   "execution_count": null,
   "metadata": {},
   "outputs": [],
   "source": [
    "cap=cv2.VideoCapture(0)\n",
    "with mp_holistic.Holistic(min_detection_confidence=0.4,min_tracking_confidence=0.4) as holistic:\n",
    "    while cap.isOpened():\n",
    "        ret,frame=cap.read()\n",
    "        image,results=make_detection(frame,holistic)\n",
    "    \n",
    "        draw_landmarks(image,results)\n",
    "        try:\n",
    "            face=results.face_landmarks.landmark\n",
    "            face_row=list(np.array([[lnd.x,lnd.y,lnd.z] for lnd in face]).flatten())\n",
    "            rows=face_row.copy()\n",
    "            \n",
    "            body_language_class=model.predict([rows])[0]\n",
    "            body_language_probab=model.predict_proba([rows])\n",
    "            \n",
    "\n",
    "            cv2.rectangle(image,(0,0),(250,60),(255,0,0),-1)\n",
    "\n",
    "            cv2.putText(image,\"CLASS\",(95,12),cv2.FONT_HERSHEY_SIMPLEX,0.5,(0,0,0),1,cv2.LINE_AA)\n",
    "\n",
    "            cv2.putText(image,body_language_class.split(\" \")[0],(90,40),cv2.FONT_HERSHEY_SIMPLEX,1,(255,255,255),2,cv2.LINE_AA)\n",
    "\n",
    "            cv2.putText(image,\"PROB\",(15,12),cv2.FONT_HERSHEY_SIMPLEX,0.5,(0,0,0),1,cv2.LINE_AA)\n",
    "\n",
    "            cv2.putText(image,str(round(np.max(body_language_probab),2)),(10,40),cv2.FONT_HERSHEY_SIMPLEX,1,(255,255,255),2,cv2.LINE_AA)\n",
    "\n",
    "\n",
    "\n",
    "\n",
    "            \n",
    "        except:\n",
    "            pass\n",
    "        cv2.imshow(\"raw feed\",image)\n",
    "        if cv2.waitKey(10) & 0xFF==ord(\"q\"):\n",
    "            break\n",
    "    cap.release()\n",
    "    cv2.destroyAllWindows()"
   ]
  }
 ],
 "metadata": {
  "kernelspec": {
   "display_name": "Python 3",
   "language": "python",
   "name": "python3"
  },
  "language_info": {
   "codemirror_mode": {
    "name": "ipython",
    "version": 3
   },
   "file_extension": ".py",
   "mimetype": "text/x-python",
   "name": "python",
   "nbconvert_exporter": "python",
   "pygments_lexer": "ipython3",
   "version": "3.10.6"
  },
  "orig_nbformat": 4
 },
 "nbformat": 4,
 "nbformat_minor": 2
}
