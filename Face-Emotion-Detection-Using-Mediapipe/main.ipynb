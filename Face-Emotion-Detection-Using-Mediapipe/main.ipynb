{
 "cells": [
  {
   "cell_type": "code",
   "execution_count": 1,
   "metadata": {},
   "outputs": [
    {
     "name": "stderr",
     "output_type": "stream",
     "text": [
      "2023-09-08 18:32:40.071304: I tensorflow/core/platform/cpu_feature_guard.cc:182] This TensorFlow binary is optimized to use available CPU instructions in performance-critical operations.\n",
      "To enable the following instructions: AVX2 FMA, in other operations, rebuild TensorFlow with the appropriate compiler flags.\n",
      "2023-09-08 18:32:40.931559: W tensorflow/compiler/tf2tensorrt/utils/py_utils.cc:38] TF-TRT Warning: Could not find TensorRT\n"
     ]
    }
   ],
   "source": [
    "import pandas as pd\n",
    "import numpy as np\n",
    "import mediapipe as mp\n",
    "import cv2\n",
    "import csv\n",
    "from sklearn.model_selection import train_test_split\n",
    "from sklearn.ensemble import RandomForestClassifier,GradientBoostingClassifier\n",
    "from sklearn.linear_model import LogisticRegression,RidgeClassifier\n"
   ]
  },
  {
   "cell_type": "code",
   "execution_count": 2,
   "metadata": {},
   "outputs": [],
   "source": [
    "mp_holistic=mp.solutions.holistic\n",
    "mp_drawing=mp.solutions.drawing_utils"
   ]
  },
  {
   "cell_type": "code",
   "execution_count": 3,
   "metadata": {},
   "outputs": [],
   "source": [
    "def make_detection(image,model):\n",
    "    image=cv2.cvtColor(image,cv2.COLOR_BGR2RGB)\n",
    "    image.flags.writeable=False\n",
    "    results=model.process(image)\n",
    "    image.flags.writeable=True\n",
    "    image=cv2.cvtColor(image,cv2.COLOR_RGB2BGR)\n",
    "    return image,results"
   ]
  },
  {
   "cell_type": "code",
   "execution_count": 4,
   "metadata": {},
   "outputs": [],
   "source": [
    "def draw_landmarks(image,results):\n",
    "    mp_drawing.draw_landmarks(image,results.face_landmarks,mp_holistic.FACEMESH_TESSELATION,\n",
    "                              mp_drawing.DrawingSpec(color=(0,255,0),thickness=2,circle_radius=1),\n",
    "                              mp_drawing.DrawingSpec(color=(0,230,0),thickness=2,circle_radius=1)\n",
    "                              )\n",
    "   "
   ]
  },
  {
   "attachments": {},
   "cell_type": "markdown",
   "metadata": {},
   "source": [
    "Make Face Detection"
   ]
  },
  {
   "cell_type": "code",
   "execution_count": 6,
   "metadata": {},
   "outputs": [
    {
     "name": "stderr",
     "output_type": "stream",
     "text": [
      "INFO: Created TensorFlow Lite XNNPACK delegate for CPU.\n"
     ]
    }
   ],
   "source": [
    "#check if face is detcting using mediapipe\n",
    "cap=cv2.VideoCapture(0)\n",
    "with mp_holistic.Holistic(min_detection_confidence=0.4,min_tracking_confidence=0.4) as holistic:\n",
    "    while cap.isOpened():\n",
    "        ret,frame=cap.read()\n",
    "        image,results=make_detection(frame,holistic)\n",
    "        \n",
    "        draw_landmarks(image,results)\n",
    "        cv2.imshow(\"raw feed\",image)\n",
    "        if cv2.waitKey(10) & 0xFF==ord(\"q\"):\n",
    "            break\n",
    "    cap.release()\n",
    "    cv2.destroyAllWindows()"
   ]
  },
  {
   "cell_type": "code",
   "execution_count": 7,
   "metadata": {},
   "outputs": [
    {
     "data": {
      "text/plain": [
       "468"
      ]
     },
     "execution_count": 7,
     "metadata": {},
     "output_type": "execute_result"
    }
   ],
   "source": [
    "#get the total no of coordintes in face\n",
    "num_coords=len(results.face_landmarks.landmark)\n",
    "num_coords"
   ]
  },
  {
   "cell_type": "code",
   "execution_count": 8,
   "metadata": {},
   "outputs": [],
   "source": [
    "#get all the headings or feature names for the dataset\n",
    "landmarks=[\"class\"]\n",
    "for val in range(1,num_coords+1):\n",
    "    landmarks+=(\"x{}\".format(val),\"y{}\".format(val),\"z{}\".format(val))\n"
   ]
  },
  {
   "cell_type": "code",
   "execution_count": 9,
   "metadata": {},
   "outputs": [],
   "source": [
    "#add the feature  names to the csv file \n",
    "with open(\"coords_emotion.csv\",mode=\"w\",newline=\"\") as f:\n",
    "    csv_writer=csv.writer(f,delimiter=\",\",quotechar='\"',quoting=csv.QUOTE_MINIMAL)\n",
    "    csv_writer.writerow(landmarks)"
   ]
  },
  {
   "cell_type": "code",
   "execution_count": 59,
   "metadata": {},
   "outputs": [],
   "source": [
    "#set the class name\n",
    "#To add new class to the csv file change class_name value and collect the data for the class\n",
    "class_name=\"Neutral\""
   ]
  },
  {
   "attachments": {},
   "cell_type": "markdown",
   "metadata": {},
   "source": [
    "Collecting data in real time and adding it to the csv file row by row"
   ]
  },
  {
   "cell_type": "code",
   "execution_count": 60,
   "metadata": {},
   "outputs": [],
   "source": [
    "cap=cv2.VideoCapture(0)\n",
    "with mp_holistic.Holistic(min_detection_confidence=0.4,min_tracking_confidence=0.4) as holistic:\n",
    "    while cap.isOpened():\n",
    "        ret,frame=cap.read()\n",
    "        image,results=make_detection(frame,holistic)\n",
    "        #print(results)\n",
    "        draw_landmarks(image,results)\n",
    "        try:\n",
    "            face=results.face_landmarks.landmark\n",
    "            face_row=list(np.array([[lnd.x,lnd.y,lnd.z] for lnd in face]).flatten())\n",
    "            rows=face_row.copy()\n",
    "            rows.insert(0,class_name)\n",
    "            with open(\"coords_emotion.csv\",mode=\"a\",newline=\"\") as f:\n",
    "                csv_writer=csv.writer(f,delimiter=\",\",quotechar='\"',quoting=csv.QUOTE_MINIMAL)\n",
    "                csv_writer.writerow(rows)\n",
    "        except:\n",
    "            pass\n",
    "        cv2.imshow(\"raw feed\",image)\n",
    "        if cv2.waitKey(10) & 0xFF==ord(\"q\"):\n",
    "            break\n",
    "    cap.release()\n",
    "    cv2.destroyAllWindows()"
   ]
  },
  {
   "cell_type": "code",
   "execution_count": 65,
   "metadata": {},
   "outputs": [
    {
     "data": {
      "text/html": [
       "<div>\n",
       "<style scoped>\n",
       "    .dataframe tbody tr th:only-of-type {\n",
       "        vertical-align: middle;\n",
       "    }\n",
       "\n",
       "    .dataframe tbody tr th {\n",
       "        vertical-align: top;\n",
       "    }\n",
       "\n",
       "    .dataframe thead th {\n",
       "        text-align: right;\n",
       "    }\n",
       "</style>\n",
       "<table border=\"1\" class=\"dataframe\">\n",
       "  <thead>\n",
       "    <tr style=\"text-align: right;\">\n",
       "      <th></th>\n",
       "      <th>class</th>\n",
       "      <th>x1</th>\n",
       "      <th>y1</th>\n",
       "      <th>z1</th>\n",
       "      <th>x2</th>\n",
       "      <th>y2</th>\n",
       "      <th>z2</th>\n",
       "      <th>x3</th>\n",
       "      <th>y3</th>\n",
       "      <th>z3</th>\n",
       "      <th>...</th>\n",
       "      <th>z465</th>\n",
       "      <th>x466</th>\n",
       "      <th>y466</th>\n",
       "      <th>z466</th>\n",
       "      <th>x467</th>\n",
       "      <th>y467</th>\n",
       "      <th>z467</th>\n",
       "      <th>x468</th>\n",
       "      <th>y468</th>\n",
       "      <th>z468</th>\n",
       "    </tr>\n",
       "  </thead>\n",
       "  <tbody>\n",
       "    <tr>\n",
       "      <th>1287</th>\n",
       "      <td>Neutral</td>\n",
       "      <td>0.771320</td>\n",
       "      <td>0.387703</td>\n",
       "      <td>-0.027733</td>\n",
       "      <td>0.773549</td>\n",
       "      <td>0.335632</td>\n",
       "      <td>-0.043022</td>\n",
       "      <td>0.771181</td>\n",
       "      <td>0.354727</td>\n",
       "      <td>-0.024633</td>\n",
       "      <td>...</td>\n",
       "      <td>0.008345</td>\n",
       "      <td>0.777071</td>\n",
       "      <td>0.272406</td>\n",
       "      <td>0.001904</td>\n",
       "      <td>0.816823</td>\n",
       "      <td>0.257371</td>\n",
       "      <td>0.024146</td>\n",
       "      <td>0.820732</td>\n",
       "      <td>0.252430</td>\n",
       "      <td>0.024976</td>\n",
       "    </tr>\n",
       "    <tr>\n",
       "      <th>1288</th>\n",
       "      <td>Neutral</td>\n",
       "      <td>0.788394</td>\n",
       "      <td>0.389121</td>\n",
       "      <td>-0.027488</td>\n",
       "      <td>0.790966</td>\n",
       "      <td>0.335085</td>\n",
       "      <td>-0.043846</td>\n",
       "      <td>0.788571</td>\n",
       "      <td>0.354238</td>\n",
       "      <td>-0.024724</td>\n",
       "      <td>...</td>\n",
       "      <td>0.007722</td>\n",
       "      <td>0.795799</td>\n",
       "      <td>0.268227</td>\n",
       "      <td>0.001234</td>\n",
       "      <td>0.836502</td>\n",
       "      <td>0.255218</td>\n",
       "      <td>0.024187</td>\n",
       "      <td>0.840314</td>\n",
       "      <td>0.250071</td>\n",
       "      <td>0.025124</td>\n",
       "    </tr>\n",
       "    <tr>\n",
       "      <th>1289</th>\n",
       "      <td>Neutral</td>\n",
       "      <td>0.783827</td>\n",
       "      <td>0.388822</td>\n",
       "      <td>-0.026985</td>\n",
       "      <td>0.785620</td>\n",
       "      <td>0.337811</td>\n",
       "      <td>-0.042169</td>\n",
       "      <td>0.783543</td>\n",
       "      <td>0.356107</td>\n",
       "      <td>-0.023934</td>\n",
       "      <td>...</td>\n",
       "      <td>0.007808</td>\n",
       "      <td>0.791406</td>\n",
       "      <td>0.268992</td>\n",
       "      <td>0.001582</td>\n",
       "      <td>0.831380</td>\n",
       "      <td>0.256302</td>\n",
       "      <td>0.023223</td>\n",
       "      <td>0.834962</td>\n",
       "      <td>0.251480</td>\n",
       "      <td>0.024012</td>\n",
       "    </tr>\n",
       "    <tr>\n",
       "      <th>1290</th>\n",
       "      <td>Neutral</td>\n",
       "      <td>0.779176</td>\n",
       "      <td>0.388553</td>\n",
       "      <td>-0.027888</td>\n",
       "      <td>0.780985</td>\n",
       "      <td>0.337383</td>\n",
       "      <td>-0.042796</td>\n",
       "      <td>0.778878</td>\n",
       "      <td>0.355992</td>\n",
       "      <td>-0.024426</td>\n",
       "      <td>...</td>\n",
       "      <td>0.008408</td>\n",
       "      <td>0.786441</td>\n",
       "      <td>0.269542</td>\n",
       "      <td>0.002039</td>\n",
       "      <td>0.827017</td>\n",
       "      <td>0.256384</td>\n",
       "      <td>0.024022</td>\n",
       "      <td>0.830686</td>\n",
       "      <td>0.251486</td>\n",
       "      <td>0.024747</td>\n",
       "    </tr>\n",
       "    <tr>\n",
       "      <th>1291</th>\n",
       "      <td>Neutral</td>\n",
       "      <td>0.735743</td>\n",
       "      <td>0.397229</td>\n",
       "      <td>-0.026517</td>\n",
       "      <td>0.735304</td>\n",
       "      <td>0.345708</td>\n",
       "      <td>-0.042185</td>\n",
       "      <td>0.734481</td>\n",
       "      <td>0.363493</td>\n",
       "      <td>-0.023591</td>\n",
       "      <td>...</td>\n",
       "      <td>0.006013</td>\n",
       "      <td>0.741768</td>\n",
       "      <td>0.275082</td>\n",
       "      <td>-0.000132</td>\n",
       "      <td>0.783134</td>\n",
       "      <td>0.258304</td>\n",
       "      <td>0.018537</td>\n",
       "      <td>0.786774</td>\n",
       "      <td>0.253099</td>\n",
       "      <td>0.018963</td>\n",
       "    </tr>\n",
       "  </tbody>\n",
       "</table>\n",
       "<p>5 rows × 1405 columns</p>\n",
       "</div>"
      ],
      "text/plain": [
       "        class        x1        y1        z1        x2        y2        z2   \n",
       "1287  Neutral  0.771320  0.387703 -0.027733  0.773549  0.335632 -0.043022  \\\n",
       "1288  Neutral  0.788394  0.389121 -0.027488  0.790966  0.335085 -0.043846   \n",
       "1289  Neutral  0.783827  0.388822 -0.026985  0.785620  0.337811 -0.042169   \n",
       "1290  Neutral  0.779176  0.388553 -0.027888  0.780985  0.337383 -0.042796   \n",
       "1291  Neutral  0.735743  0.397229 -0.026517  0.735304  0.345708 -0.042185   \n",
       "\n",
       "            x3        y3        z3  ...      z465      x466      y466   \n",
       "1287  0.771181  0.354727 -0.024633  ...  0.008345  0.777071  0.272406  \\\n",
       "1288  0.788571  0.354238 -0.024724  ...  0.007722  0.795799  0.268227   \n",
       "1289  0.783543  0.356107 -0.023934  ...  0.007808  0.791406  0.268992   \n",
       "1290  0.778878  0.355992 -0.024426  ...  0.008408  0.786441  0.269542   \n",
       "1291  0.734481  0.363493 -0.023591  ...  0.006013  0.741768  0.275082   \n",
       "\n",
       "          z466      x467      y467      z467      x468      y468      z468  \n",
       "1287  0.001904  0.816823  0.257371  0.024146  0.820732  0.252430  0.024976  \n",
       "1288  0.001234  0.836502  0.255218  0.024187  0.840314  0.250071  0.025124  \n",
       "1289  0.001582  0.831380  0.256302  0.023223  0.834962  0.251480  0.024012  \n",
       "1290  0.002039  0.827017  0.256384  0.024022  0.830686  0.251486  0.024747  \n",
       "1291 -0.000132  0.783134  0.258304  0.018537  0.786774  0.253099  0.018963  \n",
       "\n",
       "[5 rows x 1405 columns]"
      ]
     },
     "execution_count": 65,
     "metadata": {},
     "output_type": "execute_result"
    }
   ],
   "source": [
    "#read dataset\n",
    "df=pd.read_csv(\"coords_emotion.csv\")\n",
    "df.tail()"
   ]
  },
  {
   "cell_type": "code",
   "execution_count": 73,
   "metadata": {},
   "outputs": [],
   "source": [
    "from sklearn.pipeline import make_pipeline\n",
    "from sklearn.preprocessing import StandardScaler\n",
    "from sklearn.neighbors import KNeighborsClassifier\n",
    "from sklearn.svm import SVC\n",
    "from sklearn.metrics import accuracy_score,confusion_matrix,classification_report"
   ]
  },
  {
   "cell_type": "code",
   "execution_count": 74,
   "metadata": {},
   "outputs": [],
   "source": [
    "\n",
    "x=df.drop([\"class\"],axis=\"columns\")"
   ]
  },
  {
   "cell_type": "code",
   "execution_count": 75,
   "metadata": {},
   "outputs": [
    {
     "data": {
      "text/html": [
       "<div>\n",
       "<style scoped>\n",
       "    .dataframe tbody tr th:only-of-type {\n",
       "        vertical-align: middle;\n",
       "    }\n",
       "\n",
       "    .dataframe tbody tr th {\n",
       "        vertical-align: top;\n",
       "    }\n",
       "\n",
       "    .dataframe thead th {\n",
       "        text-align: right;\n",
       "    }\n",
       "</style>\n",
       "<table border=\"1\" class=\"dataframe\">\n",
       "  <thead>\n",
       "    <tr style=\"text-align: right;\">\n",
       "      <th></th>\n",
       "      <th>x1</th>\n",
       "      <th>y1</th>\n",
       "      <th>z1</th>\n",
       "      <th>x2</th>\n",
       "      <th>y2</th>\n",
       "      <th>z2</th>\n",
       "      <th>x3</th>\n",
       "      <th>y3</th>\n",
       "      <th>z3</th>\n",
       "      <th>x4</th>\n",
       "      <th>...</th>\n",
       "      <th>z465</th>\n",
       "      <th>x466</th>\n",
       "      <th>y466</th>\n",
       "      <th>z466</th>\n",
       "      <th>x467</th>\n",
       "      <th>y467</th>\n",
       "      <th>z467</th>\n",
       "      <th>x468</th>\n",
       "      <th>y468</th>\n",
       "      <th>z468</th>\n",
       "    </tr>\n",
       "  </thead>\n",
       "  <tbody>\n",
       "    <tr>\n",
       "      <th>0</th>\n",
       "      <td>0.743995</td>\n",
       "      <td>0.442625</td>\n",
       "      <td>-0.025758</td>\n",
       "      <td>0.749390</td>\n",
       "      <td>0.400092</td>\n",
       "      <td>-0.045583</td>\n",
       "      <td>0.745694</td>\n",
       "      <td>0.416855</td>\n",
       "      <td>-0.026811</td>\n",
       "      <td>0.737662</td>\n",
       "      <td>...</td>\n",
       "      <td>0.006939</td>\n",
       "      <td>0.749928</td>\n",
       "      <td>0.332933</td>\n",
       "      <td>0.000097</td>\n",
       "      <td>0.787141</td>\n",
       "      <td>0.323273</td>\n",
       "      <td>0.023683</td>\n",
       "      <td>0.791147</td>\n",
       "      <td>0.318417</td>\n",
       "      <td>0.024794</td>\n",
       "    </tr>\n",
       "    <tr>\n",
       "      <th>1</th>\n",
       "      <td>0.740803</td>\n",
       "      <td>0.442212</td>\n",
       "      <td>-0.026821</td>\n",
       "      <td>0.744893</td>\n",
       "      <td>0.399966</td>\n",
       "      <td>-0.046092</td>\n",
       "      <td>0.741536</td>\n",
       "      <td>0.416701</td>\n",
       "      <td>-0.027883</td>\n",
       "      <td>0.732783</td>\n",
       "      <td>...</td>\n",
       "      <td>0.008452</td>\n",
       "      <td>0.744830</td>\n",
       "      <td>0.332717</td>\n",
       "      <td>0.001519</td>\n",
       "      <td>0.781533</td>\n",
       "      <td>0.323033</td>\n",
       "      <td>0.026094</td>\n",
       "      <td>0.785347</td>\n",
       "      <td>0.316926</td>\n",
       "      <td>0.027404</td>\n",
       "    </tr>\n",
       "    <tr>\n",
       "      <th>2</th>\n",
       "      <td>0.740634</td>\n",
       "      <td>0.444267</td>\n",
       "      <td>-0.025995</td>\n",
       "      <td>0.744593</td>\n",
       "      <td>0.401604</td>\n",
       "      <td>-0.045584</td>\n",
       "      <td>0.741145</td>\n",
       "      <td>0.418058</td>\n",
       "      <td>-0.026919</td>\n",
       "      <td>0.732236</td>\n",
       "      <td>...</td>\n",
       "      <td>0.007466</td>\n",
       "      <td>0.744284</td>\n",
       "      <td>0.332452</td>\n",
       "      <td>0.000564</td>\n",
       "      <td>0.781023</td>\n",
       "      <td>0.321343</td>\n",
       "      <td>0.025034</td>\n",
       "      <td>0.784846</td>\n",
       "      <td>0.315336</td>\n",
       "      <td>0.026273</td>\n",
       "    </tr>\n",
       "    <tr>\n",
       "      <th>3</th>\n",
       "      <td>0.740766</td>\n",
       "      <td>0.445659</td>\n",
       "      <td>-0.025923</td>\n",
       "      <td>0.744691</td>\n",
       "      <td>0.402479</td>\n",
       "      <td>-0.045634</td>\n",
       "      <td>0.741365</td>\n",
       "      <td>0.418970</td>\n",
       "      <td>-0.027037</td>\n",
       "      <td>0.732576</td>\n",
       "      <td>...</td>\n",
       "      <td>0.007567</td>\n",
       "      <td>0.744495</td>\n",
       "      <td>0.332753</td>\n",
       "      <td>0.000672</td>\n",
       "      <td>0.780876</td>\n",
       "      <td>0.322296</td>\n",
       "      <td>0.025066</td>\n",
       "      <td>0.784662</td>\n",
       "      <td>0.316370</td>\n",
       "      <td>0.026332</td>\n",
       "    </tr>\n",
       "    <tr>\n",
       "      <th>4</th>\n",
       "      <td>0.741069</td>\n",
       "      <td>0.444902</td>\n",
       "      <td>-0.025696</td>\n",
       "      <td>0.745045</td>\n",
       "      <td>0.402071</td>\n",
       "      <td>-0.045515</td>\n",
       "      <td>0.741675</td>\n",
       "      <td>0.418460</td>\n",
       "      <td>-0.026845</td>\n",
       "      <td>0.733042</td>\n",
       "      <td>...</td>\n",
       "      <td>0.007270</td>\n",
       "      <td>0.744919</td>\n",
       "      <td>0.332159</td>\n",
       "      <td>0.000382</td>\n",
       "      <td>0.781431</td>\n",
       "      <td>0.320939</td>\n",
       "      <td>0.024864</td>\n",
       "      <td>0.785195</td>\n",
       "      <td>0.315211</td>\n",
       "      <td>0.026096</td>\n",
       "    </tr>\n",
       "    <tr>\n",
       "      <th>...</th>\n",
       "      <td>...</td>\n",
       "      <td>...</td>\n",
       "      <td>...</td>\n",
       "      <td>...</td>\n",
       "      <td>...</td>\n",
       "      <td>...</td>\n",
       "      <td>...</td>\n",
       "      <td>...</td>\n",
       "      <td>...</td>\n",
       "      <td>...</td>\n",
       "      <td>...</td>\n",
       "      <td>...</td>\n",
       "      <td>...</td>\n",
       "      <td>...</td>\n",
       "      <td>...</td>\n",
       "      <td>...</td>\n",
       "      <td>...</td>\n",
       "      <td>...</td>\n",
       "      <td>...</td>\n",
       "      <td>...</td>\n",
       "      <td>...</td>\n",
       "    </tr>\n",
       "    <tr>\n",
       "      <th>1287</th>\n",
       "      <td>0.771320</td>\n",
       "      <td>0.387703</td>\n",
       "      <td>-0.027733</td>\n",
       "      <td>0.773549</td>\n",
       "      <td>0.335632</td>\n",
       "      <td>-0.043022</td>\n",
       "      <td>0.771181</td>\n",
       "      <td>0.354727</td>\n",
       "      <td>-0.024633</td>\n",
       "      <td>0.762767</td>\n",
       "      <td>...</td>\n",
       "      <td>0.008345</td>\n",
       "      <td>0.777071</td>\n",
       "      <td>0.272406</td>\n",
       "      <td>0.001904</td>\n",
       "      <td>0.816823</td>\n",
       "      <td>0.257371</td>\n",
       "      <td>0.024146</td>\n",
       "      <td>0.820732</td>\n",
       "      <td>0.252430</td>\n",
       "      <td>0.024976</td>\n",
       "    </tr>\n",
       "    <tr>\n",
       "      <th>1288</th>\n",
       "      <td>0.788394</td>\n",
       "      <td>0.389121</td>\n",
       "      <td>-0.027488</td>\n",
       "      <td>0.790966</td>\n",
       "      <td>0.335085</td>\n",
       "      <td>-0.043846</td>\n",
       "      <td>0.788571</td>\n",
       "      <td>0.354238</td>\n",
       "      <td>-0.024724</td>\n",
       "      <td>0.780850</td>\n",
       "      <td>...</td>\n",
       "      <td>0.007722</td>\n",
       "      <td>0.795799</td>\n",
       "      <td>0.268227</td>\n",
       "      <td>0.001234</td>\n",
       "      <td>0.836502</td>\n",
       "      <td>0.255218</td>\n",
       "      <td>0.024187</td>\n",
       "      <td>0.840314</td>\n",
       "      <td>0.250071</td>\n",
       "      <td>0.025124</td>\n",
       "    </tr>\n",
       "    <tr>\n",
       "      <th>1289</th>\n",
       "      <td>0.783827</td>\n",
       "      <td>0.388822</td>\n",
       "      <td>-0.026985</td>\n",
       "      <td>0.785620</td>\n",
       "      <td>0.337811</td>\n",
       "      <td>-0.042169</td>\n",
       "      <td>0.783543</td>\n",
       "      <td>0.356107</td>\n",
       "      <td>-0.023934</td>\n",
       "      <td>0.776293</td>\n",
       "      <td>...</td>\n",
       "      <td>0.007808</td>\n",
       "      <td>0.791406</td>\n",
       "      <td>0.268992</td>\n",
       "      <td>0.001582</td>\n",
       "      <td>0.831380</td>\n",
       "      <td>0.256302</td>\n",
       "      <td>0.023223</td>\n",
       "      <td>0.834962</td>\n",
       "      <td>0.251480</td>\n",
       "      <td>0.024012</td>\n",
       "    </tr>\n",
       "    <tr>\n",
       "      <th>1290</th>\n",
       "      <td>0.779176</td>\n",
       "      <td>0.388553</td>\n",
       "      <td>-0.027888</td>\n",
       "      <td>0.780985</td>\n",
       "      <td>0.337383</td>\n",
       "      <td>-0.042796</td>\n",
       "      <td>0.778878</td>\n",
       "      <td>0.355992</td>\n",
       "      <td>-0.024426</td>\n",
       "      <td>0.771108</td>\n",
       "      <td>...</td>\n",
       "      <td>0.008408</td>\n",
       "      <td>0.786441</td>\n",
       "      <td>0.269542</td>\n",
       "      <td>0.002039</td>\n",
       "      <td>0.827017</td>\n",
       "      <td>0.256384</td>\n",
       "      <td>0.024022</td>\n",
       "      <td>0.830686</td>\n",
       "      <td>0.251486</td>\n",
       "      <td>0.024747</td>\n",
       "    </tr>\n",
       "    <tr>\n",
       "      <th>1291</th>\n",
       "      <td>0.735743</td>\n",
       "      <td>0.397229</td>\n",
       "      <td>-0.026517</td>\n",
       "      <td>0.735304</td>\n",
       "      <td>0.345708</td>\n",
       "      <td>-0.042185</td>\n",
       "      <td>0.734481</td>\n",
       "      <td>0.363493</td>\n",
       "      <td>-0.023591</td>\n",
       "      <td>0.725383</td>\n",
       "      <td>...</td>\n",
       "      <td>0.006013</td>\n",
       "      <td>0.741768</td>\n",
       "      <td>0.275082</td>\n",
       "      <td>-0.000132</td>\n",
       "      <td>0.783134</td>\n",
       "      <td>0.258304</td>\n",
       "      <td>0.018537</td>\n",
       "      <td>0.786774</td>\n",
       "      <td>0.253099</td>\n",
       "      <td>0.018963</td>\n",
       "    </tr>\n",
       "  </tbody>\n",
       "</table>\n",
       "<p>1292 rows × 1404 columns</p>\n",
       "</div>"
      ],
      "text/plain": [
       "            x1        y1        z1        x2        y2        z2        x3   \n",
       "0     0.743995  0.442625 -0.025758  0.749390  0.400092 -0.045583  0.745694  \\\n",
       "1     0.740803  0.442212 -0.026821  0.744893  0.399966 -0.046092  0.741536   \n",
       "2     0.740634  0.444267 -0.025995  0.744593  0.401604 -0.045584  0.741145   \n",
       "3     0.740766  0.445659 -0.025923  0.744691  0.402479 -0.045634  0.741365   \n",
       "4     0.741069  0.444902 -0.025696  0.745045  0.402071 -0.045515  0.741675   \n",
       "...        ...       ...       ...       ...       ...       ...       ...   \n",
       "1287  0.771320  0.387703 -0.027733  0.773549  0.335632 -0.043022  0.771181   \n",
       "1288  0.788394  0.389121 -0.027488  0.790966  0.335085 -0.043846  0.788571   \n",
       "1289  0.783827  0.388822 -0.026985  0.785620  0.337811 -0.042169  0.783543   \n",
       "1290  0.779176  0.388553 -0.027888  0.780985  0.337383 -0.042796  0.778878   \n",
       "1291  0.735743  0.397229 -0.026517  0.735304  0.345708 -0.042185  0.734481   \n",
       "\n",
       "            y3        z3        x4  ...      z465      x466      y466   \n",
       "0     0.416855 -0.026811  0.737662  ...  0.006939  0.749928  0.332933  \\\n",
       "1     0.416701 -0.027883  0.732783  ...  0.008452  0.744830  0.332717   \n",
       "2     0.418058 -0.026919  0.732236  ...  0.007466  0.744284  0.332452   \n",
       "3     0.418970 -0.027037  0.732576  ...  0.007567  0.744495  0.332753   \n",
       "4     0.418460 -0.026845  0.733042  ...  0.007270  0.744919  0.332159   \n",
       "...        ...       ...       ...  ...       ...       ...       ...   \n",
       "1287  0.354727 -0.024633  0.762767  ...  0.008345  0.777071  0.272406   \n",
       "1288  0.354238 -0.024724  0.780850  ...  0.007722  0.795799  0.268227   \n",
       "1289  0.356107 -0.023934  0.776293  ...  0.007808  0.791406  0.268992   \n",
       "1290  0.355992 -0.024426  0.771108  ...  0.008408  0.786441  0.269542   \n",
       "1291  0.363493 -0.023591  0.725383  ...  0.006013  0.741768  0.275082   \n",
       "\n",
       "          z466      x467      y467      z467      x468      y468      z468  \n",
       "0     0.000097  0.787141  0.323273  0.023683  0.791147  0.318417  0.024794  \n",
       "1     0.001519  0.781533  0.323033  0.026094  0.785347  0.316926  0.027404  \n",
       "2     0.000564  0.781023  0.321343  0.025034  0.784846  0.315336  0.026273  \n",
       "3     0.000672  0.780876  0.322296  0.025066  0.784662  0.316370  0.026332  \n",
       "4     0.000382  0.781431  0.320939  0.024864  0.785195  0.315211  0.026096  \n",
       "...        ...       ...       ...       ...       ...       ...       ...  \n",
       "1287  0.001904  0.816823  0.257371  0.024146  0.820732  0.252430  0.024976  \n",
       "1288  0.001234  0.836502  0.255218  0.024187  0.840314  0.250071  0.025124  \n",
       "1289  0.001582  0.831380  0.256302  0.023223  0.834962  0.251480  0.024012  \n",
       "1290  0.002039  0.827017  0.256384  0.024022  0.830686  0.251486  0.024747  \n",
       "1291 -0.000132  0.783134  0.258304  0.018537  0.786774  0.253099  0.018963  \n",
       "\n",
       "[1292 rows x 1404 columns]"
      ]
     },
     "execution_count": 75,
     "metadata": {},
     "output_type": "execute_result"
    }
   ],
   "source": [
    "x"
   ]
  },
  {
   "cell_type": "code",
   "execution_count": 76,
   "metadata": {},
   "outputs": [],
   "source": [
    "y=df[\"class\"]"
   ]
  },
  {
   "cell_type": "code",
   "execution_count": 77,
   "metadata": {},
   "outputs": [],
   "source": [
    "#split the dataset in to train and test \n",
    "x_train,x_test,y_train,y_test=train_test_split(x.values,y,test_size=0.2,random_state=0)"
   ]
  },
  {
   "cell_type": "code",
   "execution_count": 78,
   "metadata": {},
   "outputs": [],
   "source": [
    "#create pipelines\n",
    "pipelines={\n",
    "    \"rf\":make_pipeline(StandardScaler(),RandomForestClassifier()),\n",
    "    \"rc\":make_pipeline(StandardScaler(),RidgeClassifier()),\n",
    "    \"gb\":make_pipeline(StandardScaler(),GradientBoostingClassifier()),\n",
    "    \"lr\":make_pipeline(StandardScaler(),LogisticRegression()),\n",
    "    \"svc\":make_pipeline(StandardScaler(),SVC()),\n",
    "    \"knn\":make_pipeline(StandardScaler(),KNeighborsClassifier())\n",
    "}"
   ]
  },
  {
   "cell_type": "code",
   "execution_count": 80,
   "metadata": {},
   "outputs": [
    {
     "name": "stderr",
     "output_type": "stream",
     "text": [
      "/home/ameen/.local/lib/python3.10/site-packages/sklearn/linear_model/_logistic.py:458: ConvergenceWarning: lbfgs failed to converge (status=1):\n",
      "STOP: TOTAL NO. of ITERATIONS REACHED LIMIT.\n",
      "\n",
      "Increase the number of iterations (max_iter) or scale the data as shown in:\n",
      "    https://scikit-learn.org/stable/modules/preprocessing.html\n",
      "Please also refer to the documentation for alternative solver options:\n",
      "    https://scikit-learn.org/stable/modules/linear_model.html#logistic-regression\n",
      "  n_iter_i = _check_optimize_result(\n"
     ]
    }
   ],
   "source": [
    "fit_models={}\n",
    "for algo,pipeline in pipelines.items():\n",
    "    model=pipeline.fit(x_train,y_train)\n",
    "    fit_models[algo]=model"
   ]
  },
  {
   "cell_type": "code",
   "execution_count": 81,
   "metadata": {},
   "outputs": [
    {
     "data": {
      "text/plain": [
       "0.9459459459459459"
      ]
     },
     "execution_count": 81,
     "metadata": {},
     "output_type": "execute_result"
    }
   ],
   "source": [
    "fit_models[\"lr\"].score(x_test,y_test)"
   ]
  },
  {
   "cell_type": "code",
   "execution_count": 82,
   "metadata": {},
   "outputs": [
    {
     "name": "stdout",
     "output_type": "stream",
     "text": [
      "rf 0.9961389961389961\n",
      "rc 0.9498069498069498\n",
      "gb 0.9845559845559846\n",
      "lr 0.9459459459459459\n",
      "svc 0.9382239382239382\n",
      "knn 0.9768339768339769\n"
     ]
    }
   ],
   "source": [
    "for algo,model in fit_models.items():\n",
    "    yhat=model.predict(x_test)\n",
    "    print(algo,accuracy_score(yhat,y_test))"
   ]
  },
  {
   "cell_type": "code",
   "execution_count": 83,
   "metadata": {},
   "outputs": [],
   "source": [
    "model=fit_models[\"rf\"]\n"
   ]
  },
  {
   "cell_type": "code",
   "execution_count": 84,
   "metadata": {},
   "outputs": [
    {
     "name": "stdout",
     "output_type": "stream",
     "text": [
      "              precision    recall  f1-score   support\n",
      "\n",
      "       Angry       1.00      1.00      1.00        93\n",
      "       Happy       1.00      0.96      0.98        27\n",
      "     Neutral       0.99      1.00      1.00       106\n",
      "         Sad       1.00      1.00      1.00        33\n",
      "\n",
      "    accuracy                           1.00       259\n",
      "   macro avg       1.00      0.99      0.99       259\n",
      "weighted avg       1.00      1.00      1.00       259\n",
      "\n"
     ]
    }
   ],
   "source": [
    "yhat=fit_models[\"rf\"].predict(x_test)\n",
    "print(classification_report(yhat,y_test))"
   ]
  },
  {
   "cell_type": "code",
   "execution_count": 85,
   "metadata": {},
   "outputs": [
    {
     "data": {
      "text/plain": [
       "array(['Angry', 'Angry', 'Sad', 'Sad', 'Angry', 'Sad', 'Angry', 'Neutral',\n",
       "       'Neutral', 'Sad', 'Neutral', 'Neutral', 'Angry', 'Neutral',\n",
       "       'Angry', 'Angry', 'Neutral', 'Neutral', 'Angry', 'Angry', 'Angry',\n",
       "       'Happy', 'Neutral', 'Angry', 'Happy', 'Happy', 'Angry', 'Angry',\n",
       "       'Angry', 'Neutral', 'Happy', 'Neutral', 'Angry', 'Sad', 'Angry',\n",
       "       'Neutral', 'Neutral', 'Angry', 'Angry', 'Neutral', 'Angry',\n",
       "       'Happy', 'Happy', 'Neutral', 'Angry', 'Happy', 'Angry', 'Angry',\n",
       "       'Sad', 'Neutral', 'Neutral', 'Neutral', 'Happy', 'Angry',\n",
       "       'Neutral', 'Neutral', 'Sad', 'Angry', 'Sad', 'Neutral', 'Neutral',\n",
       "       'Angry', 'Angry', 'Angry', 'Angry', 'Neutral', 'Neutral', 'Angry',\n",
       "       'Happy', 'Sad', 'Neutral', 'Sad', 'Neutral', 'Neutral', 'Sad',\n",
       "       'Neutral', 'Neutral', 'Angry', 'Sad', 'Angry', 'Neutral', 'Sad',\n",
       "       'Neutral', 'Neutral', 'Angry', 'Angry', 'Neutral', 'Neutral',\n",
       "       'Angry', 'Happy', 'Happy', 'Angry', 'Neutral', 'Sad', 'Neutral',\n",
       "       'Angry', 'Happy', 'Angry', 'Angry', 'Angry', 'Neutral', 'Angry',\n",
       "       'Happy', 'Angry', 'Angry', 'Neutral', 'Angry', 'Angry', 'Happy',\n",
       "       'Neutral', 'Angry', 'Angry', 'Neutral', 'Neutral', 'Angry', 'Sad',\n",
       "       'Angry', 'Angry', 'Neutral', 'Neutral', 'Sad', 'Neutral', 'Angry',\n",
       "       'Happy', 'Neutral', 'Neutral', 'Angry', 'Neutral', 'Neutral',\n",
       "       'Angry', 'Happy', 'Sad', 'Sad', 'Happy', 'Angry', 'Neutral',\n",
       "       'Happy', 'Neutral', 'Neutral', 'Neutral', 'Neutral', 'Angry',\n",
       "       'Neutral', 'Neutral', 'Neutral', 'Angry', 'Angry', 'Sad', 'Happy',\n",
       "       'Happy', 'Neutral', 'Neutral', 'Angry', 'Happy', 'Sad', 'Happy',\n",
       "       'Angry', 'Neutral', 'Neutral', 'Angry', 'Neutral', 'Angry',\n",
       "       'Angry', 'Sad', 'Neutral', 'Neutral', 'Happy', 'Neutral',\n",
       "       'Neutral', 'Angry', 'Angry', 'Happy', 'Angry', 'Neutral',\n",
       "       'Neutral', 'Neutral', 'Angry', 'Angry', 'Neutral', 'Neutral',\n",
       "       'Angry', 'Angry', 'Sad', 'Neutral', 'Sad', 'Neutral', 'Neutral',\n",
       "       'Neutral', 'Angry', 'Angry', 'Sad', 'Sad', 'Sad', 'Angry', 'Sad',\n",
       "       'Neutral', 'Angry', 'Angry', 'Sad', 'Angry', 'Neutral', 'Angry',\n",
       "       'Angry', 'Neutral', 'Neutral', 'Neutral', 'Sad', 'Sad', 'Neutral',\n",
       "       'Angry', 'Angry', 'Neutral', 'Angry', 'Sad', 'Neutral', 'Neutral',\n",
       "       'Neutral', 'Angry', 'Angry', 'Neutral', 'Angry', 'Happy',\n",
       "       'Neutral', 'Sad', 'Neutral', 'Neutral', 'Neutral', 'Neutral',\n",
       "       'Angry', 'Angry', 'Angry', 'Angry', 'Angry', 'Neutral', 'Neutral',\n",
       "       'Sad', 'Neutral', 'Neutral', 'Angry', 'Neutral', 'Neutral',\n",
       "       'Neutral', 'Happy', 'Neutral', 'Angry', 'Neutral', 'Neutral',\n",
       "       'Neutral', 'Neutral', 'Angry', 'Neutral', 'Neutral', 'Angry',\n",
       "       'Neutral', 'Neutral', 'Happy', 'Neutral', 'Angry', 'Angry'],\n",
       "      dtype=object)"
      ]
     },
     "execution_count": 85,
     "metadata": {},
     "output_type": "execute_result"
    }
   ],
   "source": [
    "cm=confusion_matrix(yhat,y_test)\n",
    "model.predict(x_test)"
   ]
  },
  {
   "cell_type": "code",
   "execution_count": 87,
   "metadata": {},
   "outputs": [
    {
     "data": {
      "text/plain": [
       "<Axes: >"
      ]
     },
     "execution_count": 87,
     "metadata": {},
     "output_type": "execute_result"
    },
    {
     "data": {
      "image/png": "[encoded data removed]",
      "text/plain": [
       "<Figure size 640x480 with 2 Axes>"
      ]
     },
     "metadata": {},
     "output_type": "display_data"
    }
   ],
   "source": [
    "import seaborn as sn\n",
    "sn.heatmap(cm,annot=True,fmt=\"d\")"
   ]
  },
  {
   "attachments": {},
   "cell_type": "markdown",
   "metadata": {},
   "source": [
    "save the model"
   ]
  },
  {
   "cell_type": "code",
   "execution_count": 92,
   "metadata": {},
   "outputs": [],
   "source": [
    "import pickle\n",
    "with open(\"face_emotion_model.pkl\",\"wb\") as f:\n",
    "    pickle.dump(fit_models[\"rf\"],f)"
   ]
  },
  {
   "cell_type": "code",
   "execution_count": 93,
   "metadata": {},
   "outputs": [],
   "source": [
    "with open(\"pose_model.pkl\",\"rb\") as f:\n",
    "    model=pickle.load(f)"
   ]
  },
  {
   "cell_type": "code",
   "execution_count": 94,
   "metadata": {},
   "outputs": [
    {
     "data": {
      "text/plain": [
       "0.9961389961389961"
      ]
     },
     "execution_count": 94,
     "metadata": {},
     "output_type": "execute_result"
    }
   ],
   "source": [
    "model.score(x_test,y_test)"
   ]
  },
  {
   "attachments": {},
   "cell_type": "markdown",
   "metadata": {},
   "source": [
    "Make Real time predictions"
   ]
  },
  {
   "cell_type": "code",
   "execution_count": 40,
   "metadata": {},
   "outputs": [],
   "source": [
    "cap=cv2.VideoCapture(0)\n",
    "with mp_holistic.Holistic(min_detection_confidence=0.4,min_tracking_confidence=0.4) as holistic:\n",
    "    while cap.isOpened():\n",
    "        ret,frame=cap.read()\n",
    "        image,results=make_detection(frame,holistic)\n",
    "        #print(results)\n",
    "        draw_landmarks(image,results)\n",
    "        try:\n",
    "            face=results.face_landmarks.landmark\n",
    "            #pose_row=list(np.array([[lnd.x,lnd.y,lnd.z,lnd.visibility] for lnd in pose]).flatten())\n",
    "            face_row=list(np.array([[lnd.x,lnd.y,lnd.z] for lnd in face]).flatten())\n",
    "            rows=face_row.copy()\n",
    "            \n",
    "            body_language_class=model.predict([rows])[0]\n",
    "            body_language_probab=model.predict_proba([rows])\n",
    "            #print(model.predict([rows]))\n",
    "            #coords=tuple(np.multiply(np.array((results.pose_landmarks.landmark[mp_holistic.PoseLandmark.LEFT_EAR].x,results.pose_landmarks.landmark[mp_holistic.PoseLandmark.RIGHT_EAR].y)),[1280,720]).astype(int))\n",
    "            #cv2.rectangle(image,(coords[0],coords[1]+5),(coords[0]+len(body_language_class)*20,coords[1]-30),(255,0,0),-1)\n",
    "            #cv2.putText(image,body_language_class,coords,cv2.FONT_HERSHEY_SIMPLEX,1,(255,255,255),2,cv2.LINE_AA)\n",
    "\n",
    "            cv2.rectangle(image,(0,0),(250,60),(255,0,0),-1)\n",
    "\n",
    "            cv2.putText(image,\"CLASS\",(95,12),cv2.FONT_HERSHEY_SIMPLEX,0.5,(0,0,0),1,cv2.LINE_AA)\n",
    "\n",
    "            cv2.putText(image,body_language_class.split(\" \")[0],(90,40),cv2.FONT_HERSHEY_SIMPLEX,1,(255,255,255),2,cv2.LINE_AA)\n",
    "\n",
    "            cv2.putText(image,\"PROB\",(15,12),cv2.FONT_HERSHEY_SIMPLEX,0.5,(0,0,0),1,cv2.LINE_AA)\n",
    "\n",
    "            cv2.putText(image,str(round(np.max(body_language_probab),2)),(10,40),cv2.FONT_HERSHEY_SIMPLEX,1,(255,255,255),2,cv2.LINE_AA)\n",
    "\n",
    "\n",
    "\n",
    "\n",
    "            \n",
    "        except:\n",
    "            pass\n",
    "        cv2.imshow(\"raw feed\",image)\n",
    "        if cv2.waitKey(10) & 0xFF==ord(\"q\"):\n",
    "            break\n",
    "    cap.release()\n",
    "    cv2.destroyAllWindows()"
   ]
  }
 ],
 "metadata": {
  "kernelspec": {
   "display_name": "Python 3",
   "language": "python",
   "name": "python3"
  },
  "language_info": {
   "codemirror_mode": {
    "name": "ipython",
    "version": 3
   },
   "file_extension": ".py",
   "mimetype": "text/x-python",
   "name": "python",
   "nbconvert_exporter": "python",
   "pygments_lexer": "ipython3",
   "version": "3.10.6"
  },
  "orig_nbformat": 4
 },
 "nbformat": 4,
 "nbformat_minor": 2
}
